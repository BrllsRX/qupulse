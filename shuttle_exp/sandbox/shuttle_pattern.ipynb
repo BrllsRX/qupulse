{
 "cells": [
  {
   "attachments": {},
   "cell_type": "markdown",
   "metadata": {},
   "source": [
    "# Minimal test of volatiled parameter\n",
    "- [x] Write a pulse template for pattern loading.\n",
    "- [ ] Implement pattern as volatile parameter.\n",
    "- [ ] Test without shit codes in MATLAB -> Max.\n",
    "- [ ] \n"
   ]
  },
  {
   "cell_type": "code",
   "execution_count": 1,
   "metadata": {},
   "outputs": [],
   "source": [
    "# Pulse template for patter FILO\n",
    "from qupulse.pulses import *\n",
    "from qupulse.pulses import ParallelConstantChannelPT as ParallelChannelPT\n",
    "# since when ParallelChannelPT is not a short-cut to ParallelConstantChannelPT?\n",
    "\n",
    "# Make load and read blocks\n",
    "read_pls = PointPT([\n",
    "    ('t_read_0', 'V_read_0'),\n",
    "    ('t_read_1', 'V_read_1'),\n",
    "    ('t_read_2', 'V_read_2'),\n",
    "    ('t_read_3', 'V_read_3'),\n",
    "    ], tuple('ABCDEFGH'), measurements=[('read', 0, 't_read_3')])\n",
    "\n",
    "arbitrary_load = PointPT([\n",
    "    ('t_load_0', 'V_load_0 * bit_flag + V_empty_0 * (1 - bit_flag)'),\n",
    "    ('t_load_1', 'V_load_1 * bit_flag + V_empty_1 * (1 - bit_flag)'),\n",
    "    ('t_load_2', 'V_load_2 * bit_flag + V_empty_2 * (1 - bit_flag)'),\n",
    "    ('t_load_3', 'V_load_3 * bit_flag + V_empty_3 * (1 - bit_flag)'),\n",
    "    ], tuple('ABCDEFGH'), measurements=[('load', 0, 't_load_3')])\n",
    "\n",
    "load_bit = MappingPT(arbitrary_load, parameter_mapping={'bit_flag': 'pattern[bit]'})\n",
    "pattern_FILO = ForLoopPT(load_bit, 'bit', 'len(pattern)')"
   ]
  },
  {
   "cell_type": "code",
   "execution_count": 2,
   "metadata": {},
   "outputs": [],
   "source": [
    "# make some parameters: load e or none depends on the voltage of channel B\n",
    "default_params = {}\n",
    "for n in ('load', 'read'):\n",
    "    for ii in range(4):\n",
    "        default_params[f't_{n}_{ii}'] = ii*25e6\n",
    "\n",
    "default_params = {**default_params,\n",
    "    #              A,   B,   C,   D,   E,    F,    G,    H\n",
    "    #             TLB1, TLP, TLB2, LB2, LB1, RB1, EMP, CLK\n",
    "    'V_load_0': [   0.,  0.,    0, -.3,  0.,  0.,  0.,  0.],\n",
    "    'V_load_1': [   0.,  .5,    0, -.3,  0.,  0.,  0.,  0.],\n",
    "    'V_load_2': [  -.5,  .5,    0, -.3,  0.,  0.,  0.,  0.],\n",
    "    'V_load_3': [  -.5,  .5,    0, -.3,  0.,  0.,  0.,  0.],\n",
    "\n",
    "    'V_empty_0': [   0.,  0.,    0, -.3,  0.,  0.,  0.,  0.],\n",
    "    'V_empty_1': [   0.,  0.,    0, -.3,  0.,  0.,  0.,  0.],\n",
    "    'V_empty_2': [  -.5,  0.,    0, -.3,  0.,  0.,  0.,  0.],\n",
    "    'V_empty_3': [  -.5,  0.,    0, -.3,  0.,  0.,  0.,  0.],\n",
    "\n",
    "    'pattern': [0, 0, 1, 0, 0, 1]\n",
    "}"
   ]
  },
  {
   "cell_type": "code",
   "execution_count": 3,
   "metadata": {},
   "outputs": [
    {
     "data": {
      "image/png": "[encoded data removed]",
      "text/plain": [
       "<Figure size 640x480 with 1 Axes>"
      ]
     },
     "metadata": {},
     "output_type": "display_data"
    }
   ],
   "source": [
    "# inspection\n",
    "from qupulse.pulses.plotting import plot\n",
    "\n",
    "_ = plot(pattern_FILO, parameters = default_params, \n",
    "         plot_measurements=['load'],\n",
    "         plot_channels=('B'),\n",
    "         sample_rate = 1e-5)"
   ]
  },
  {
   "cell_type": "code",
   "execution_count": 4,
   "metadata": {},
   "outputs": [
    {
     "name": "stderr",
     "output_type": "stream",
     "text": [
      "c:\\users\\xuera\\documents\\python\\qupulse\\qupulse\\hardware\\awgs\\tektronix.py:13: UserWarning: Could not import Tektronix driver backend. If you wish to use it execute qupulse.hardware.awgs.install_requirements('tektronix')\n",
      "  warnings.warn(\"Could not import Tektronix driver backend. \"\n"
     ]
    },
    {
     "ename": "NameError",
     "evalue": "name 'awg' is not defined",
     "output_type": "error",
     "traceback": [
      "\u001b[1;31m---------------------------------------------------------------------------\u001b[0m",
      "\u001b[1;31mNameError\u001b[0m                                 Traceback (most recent call last)",
      "\u001b[1;32m~\\AppData\\Local\\Temp\\ipykernel_15016\\3260580054.py\u001b[0m in \u001b[0;36m<module>\u001b[1;34m\u001b[0m\n\u001b[0;32m     11\u001b[0m \u001b[0mchannel_pairs\u001b[0m \u001b[1;33m=\u001b[0m \u001b[1;33m[\u001b[0m\u001b[1;33m]\u001b[0m\u001b[1;33m\u001b[0m\u001b[1;33m\u001b[0m\u001b[0m\n\u001b[0;32m     12\u001b[0m \u001b[1;32mfor\u001b[0m \u001b[0mpair_name\u001b[0m \u001b[1;32min\u001b[0m \u001b[1;33m(\u001b[0m\u001b[1;34m'AB'\u001b[0m\u001b[1;33m,\u001b[0m \u001b[1;34m'CD'\u001b[0m\u001b[1;33m,\u001b[0m \u001b[1;34m'EF'\u001b[0m\u001b[1;33m,\u001b[0m \u001b[1;34m'GH'\u001b[0m\u001b[1;33m)\u001b[0m\u001b[1;33m:\u001b[0m\u001b[1;33m\u001b[0m\u001b[1;33m\u001b[0m\u001b[0m\n\u001b[1;32m---> 13\u001b[1;33m     \u001b[0mchannel_pair\u001b[0m \u001b[1;33m=\u001b[0m \u001b[0mgetattr\u001b[0m\u001b[1;33m(\u001b[0m\u001b[0mawg\u001b[0m\u001b[1;33m,\u001b[0m \u001b[1;34m'channel_pair_%s'\u001b[0m \u001b[1;33m%\u001b[0m \u001b[0mpair_name\u001b[0m\u001b[1;33m)\u001b[0m\u001b[1;33m\u001b[0m\u001b[1;33m\u001b[0m\u001b[0m\n\u001b[0m\u001b[0;32m     14\u001b[0m \u001b[1;33m\u001b[0m\u001b[0m\n\u001b[0;32m     15\u001b[0m     \u001b[1;32mfor\u001b[0m \u001b[0mch_i\u001b[0m\u001b[1;33m,\u001b[0m \u001b[0mch_name\u001b[0m \u001b[1;32min\u001b[0m \u001b[0menumerate\u001b[0m\u001b[1;33m(\u001b[0m\u001b[0mpair_name\u001b[0m\u001b[1;33m)\u001b[0m\u001b[1;33m:\u001b[0m\u001b[1;33m\u001b[0m\u001b[1;33m\u001b[0m\u001b[0m\n",
      "\u001b[1;31mNameError\u001b[0m: name 'awg' is not defined"
     ]
    }
   ],
   "source": [
    "from qupulse.hardware.setup import HardwareSetup, PlaybackChannel, MarkerChannel\n",
    "from qupulse.hardware.awgs.zihdawg import HDAWGRepresentation\n",
    "\n",
    "volatile_prog = pattern_FILO.create_program(parameters=default_params,\n",
    "                                            volatile='pattern')\n",
    "\n",
    "# --> adapt hardware setup below\n",
    "hardware_setup = HardwareSetup()\n",
    "# awg = HDAWGRepresentation('awg_ip', 'USB')\n",
    "\n",
    "channel_pairs = []\n",
    "for pair_name in ('AB', 'CD', 'EF', 'GH'): \n",
    "    channel_pair = getattr(awg, 'channel_pair_%s' % pair_name)\n",
    "\n",
    "    for ch_i, ch_name in enumerate(pair_name):\n",
    "        playback_name = '{name}_{ch_name}'.format(name='HDAWG', ch_name=ch_name)\n",
    "        hardware_setup.set_channel(playback_name,\n",
    "                                    PlaybackChannel(channel_pair, ch_i))\n",
    "        hardware_setup.set_channel(playback_name + '_MARKER_FRONT', MarkerChannel(channel_pair, 2 * ch_i))\n",
    "        hardware_setup.set_channel(playback_name + '_MARKER_BACK', MarkerChannel(channel_pair, 2 * ch_i + 1))\n",
    "awg_channel = awg.channel_pair_AB\n",
    "\n",
    "volatile_prog.cleanup()\n",
    "\n",
    "hardware_setup.register_program('test_program', volatile_prog)\n",
    "hardware_setup.arm_program('test_program')\n",
    "\n",
    "awg_channel.run_current_program()\n",
    "\n",
    "hardware_setup.update_parameters('test_program', {'pattern': [1, 1, 0, 0, 1, 1]})\n",
    "awg_channel.run_current_program()"
   ]
  },
  {
   "attachments": {},
   "cell_type": "markdown",
   "metadata": {},
   "source": [
    "## Make volatiled PT\n",
    "try to switch over between load_full and load_empty in a duty cycle and wrap it in a RepititionPT such that volatiled repitition count can be used."
   ]
  },
  {
   "cell_type": "code",
   "execution_count": 5,
   "metadata": {},
   "outputs": [],
   "source": [
    "# Pulse template for patter FILO\n",
    "from qupulse.pulses import *\n",
    "from qupulse.pulses import ParallelConstantChannelPT as ParallelChannelPT\n",
    "# since when ParallelChannelPT is not a short-cut to ParallelConstantChannelPT?\n",
    "\n",
    "# Make load and read blocks\n",
    "read_pls = PointPT([\n",
    "    ('t_read_0', 'V_read_0'),\n",
    "    ('t_read_1', 'V_read_1'),\n",
    "    ('t_read_2', 'V_read_2'),\n",
    "    ('t_read_3', 'V_read_3'),\n",
    "    ], tuple('ABCDEFGH'), measurements=[('read', 0, 't_read_3')])\n",
    "\n",
    "load_full = PointPT([\n",
    "    ('t_load_0', 'V_load_0'),\n",
    "    ('t_load_1', 'V_load_1'),\n",
    "    ('t_load_2', 'V_load_2'),\n",
    "    ('t_load_3', 'V_load_3'),\n",
    "    ], tuple('ABCDEFGH'), measurements=[('load', 0, 't_load_3')])\n",
    "\n",
    "load_none = MappingPT(load_full, parameter_mapping={'V_load_0': 'V_empty_0',\n",
    "                                                    'V_load_1': 'V_empty_1',\n",
    "                                                    'V_load_2': 'V_empty_2',\n",
    "                                                    'V_load_3': 'V_empty_3'})"
   ]
  },
  {
   "cell_type": "code",
   "execution_count": null,
   "metadata": {},
   "outputs": [],
   "source": [
    "duty_cycle = RepetitionPT(load_full, 'n_load_1') @ RepetitionPT(load_none, 'n_load_0')"
   ]
  }
 ],
 "metadata": {
  "kernelspec": {
   "display_name": "qupulse",
   "language": "python",
   "name": "python3"
  },
  "language_info": {
   "codemirror_mode": {
    "name": "ipython",
    "version": 3
   },
   "file_extension": ".py",
   "mimetype": "text/x-python",
   "name": "python",
   "nbconvert_exporter": "python",
   "pygments_lexer": "ipython3",
   "version": "3.8.12"
  },
  "orig_nbformat": 4,
  "vscode": {
   "interpreter": {
    "hash": "c09f0e6bd45894111d27148492b4b7a76d7528f206ccdbd4ebc15dec6b091930"
   }
  }
 },
 "nbformat": 4,
 "nbformat_minor": 2
}
