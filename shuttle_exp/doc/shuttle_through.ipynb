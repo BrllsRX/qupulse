{
 "cells": [
  {
   "cell_type": "markdown",
   "metadata": {},
   "source": [
    "# Shuttle through 10 µm QuBus\n",
    "\n",
    "Now that the expeimental evidance of long-range shuttling approaches our ultimate goal, it is time to polish previous work.\n",
    "\n",
    "## Task 1: Simplify the piece-weised pulse\n",
    "> ### Issue:\n",
    "> the measurement window of each piece-weised level yields large amount of dataset due to the high sample rate of AWG (i.e. 192/12.5 MHz = 15.36 µs). It is overkilled for loading or reading a single electron tunneling as it is rather slow i.e. in ms range, which as a result generates thousands data points for a tunnel event.\n",
    "\n",
    "> ### Solutions: \n",
    "> From my experience, a time resolution of hundreds µs is sufficient to resolve a single blip due to tunneling. \n",
    "> 1. Making simple loading/reading pulse by `TablePT` or `ConstantPT` and let alazar card downsample data as intended.\n",
    ">> #### Pridictable problems:\n",
    ">> 1. pulse issue: ConstantPT has inconsistent usage of `Set` and `frozenset` --> Issue: 712. -- DONE\n",
    ">> 2. atsaverage issue: how should I downsample data with given resolution? How to define mask properly?\n",
    ">> 3. MATLAB issue: the matlab interface will be buggy for sure. Maybe `conf_seq` has already implemented similar functionalities?\n",
    "> 2. Making more ineligent pulse as a physist? Just wrapping piece-weised pulses by one more `RepetitionPT` where `measurement_window` can be defined by a given parameter?\n",
    ">> Other than an un-readable pulse that may potentially make analysis difficult, I don't see any problems by now...\n",
    "\n",
    "> Others?\n",
    "\n",
    "Anyway, try to avoid using `PointPT` first.\n"
   ]
  },
  {
   "cell_type": "code",
   "execution_count": 50,
   "metadata": {},
   "outputs": [
    {
     "name": "stdout",
     "output_type": "stream",
     "text": [
      "{'n_segment', 'v_hold_G', 'v_hold_F', 't_hold', 'sample_rate', 'v_hold_H', 't_res', 'v_hold_D', 'v_hold_B', 'v_hold_C', 'v_hold_A', 'v_hold_E'}\n"
     ]
    }
   ],
   "source": [
    "import sympy\n",
    "from qupulse.pulses import ConstantPT, RepetitionPT\n",
    "\n",
    "n_segment, sample_rate, t_res, t_hold = sympy.sympify('n_segment, sample_rate, t_res, t_hold')\n",
    "t_segment = n_segment / sample_rate\n",
    "# for HDAWG, n_segment = 192... It is a defined constant MIN_WAVEFORM_LEN = 192 in qupulse.hardware.awg.zihdawg.py\n",
    "\n",
    "segment = ConstantPT(t_segment, {k : 'v_hold_'+ k for k in 'ABCDEFGH'})\n",
    "\n",
    "body = RepetitionPT(segment, t_res // t_segment, measurements=[('M', 0, 't_res')],\n",
    "                    parameter_constraints=['t_res % (n_segment/sample_rate) == 0']) # defines resolutioin\n",
    "                    \n",
    "section = RepetitionPT(body, t_hold // t_res,\n",
    "                       parameter_constraints=['t_hold % t_res == 0']) # defines hold on time at each voltage level\n",
    "\n",
    "# insepction of parameters:\n",
    "print(section.parameter_names)"
   ]
  },
  {
   "cell_type": "markdown",
   "metadata": {},
   "source": [
    "Now make 3-level square pulse for loading or reading. Maybe extend it to have a user defined section number."
   ]
  },
  {
   "cell_type": "code",
   "execution_count": 51,
   "metadata": {},
   "outputs": [
    {
     "name": "stdout",
     "output_type": "stream",
     "text": [
      "{'V_load_0F', 'V_load_1A', 'V_load_0G', 'n_segment', 'V_load_1F', 'V_load_0A', 'V_load_1H', 'V_load_1C', 'V_load_1B', 'sample_rate', 't_hold_0', 't_res', 't_hold_1', 'V_load_1E', 'V_load_2E', 'V_load_0H', 'V_load_0B', 'V_load_2C', 'V_load_0D', 'V_load_2A', 'V_load_1D', 'V_load_2F', 'V_load_2B', 'V_load_2D', 'V_load_0E', 'V_load_2H', 'V_load_1G', 'V_load_2G', 'V_load_0C', 't_hold_2'}\n",
      "{'Load'}\n",
      "[]\n"
     ]
    }
   ],
   "source": [
    "from qupulse.pulses import MappingPT, SequencePT\n",
    "\n",
    "# but why do I define measurement window by qupulse?\n",
    "# I know MappingPT can do that, but why necessary?\n",
    "\n",
    "load = SequencePT(MappingPT(section, parameter_mapping={**{'v_hold_'+k: 'V_load_0'+k for k in 'ABCDEFGH'},\n",
    "                                                        **{'t_hold': 't_hold_0'}},\n",
    "                                                        measurement_mapping={'M': 'Load'}),\n",
    "                  MappingPT(section, parameter_mapping={**{'v_hold_'+k: 'V_load_1'+k for k in 'ABCDEFGH'},\n",
    "                                                        **{'t_hold': 't_hold_1'}},\n",
    "                                                        measurement_mapping={'M': 'Load'}),\n",
    "                  MappingPT(section, parameter_mapping={**{'v_hold_'+k: 'V_load_2'+k for k in 'ABCDEFGH'},\n",
    "                                                        **{'t_hold': 't_hold_2'}},\n",
    "                                                        measurement_mapping={'M': 'Load'}))\n",
    "\n",
    "# inspection:\n",
    "print(load.parameter_names)\n",
    "print(load.measurement_names)\n",
    "print(load._measurement_windows)"
   ]
  },
  {
   "cell_type": "markdown",
   "metadata": {},
   "source": [
    "Does it make sense to assign such a lot parameters individually in a measurement script?\n",
    "\n",
    "?? Why the measurement window are missing?\n",
    "\n"
   ]
  },
  {
   "cell_type": "code",
   "execution_count": 62,
   "metadata": {},
   "outputs": [
    {
     "name": "stdout",
     "output_type": "stream",
     "text": [
      "{'V_load_0A': -1.5, 'V_load_0B': 0.0, 'V_load_0C': 1.5, 'V_load_0D': 0.0, 'V_load_0E': 0.7, 'V_load_0F': -0.2, 'V_load_0G': 0.3, 'V_load_0H': 0.0, 'V_load_1A': -1.5, 'V_load_1B': 0.0, 'V_load_1C': 1.5, 'V_load_1D': 0.0, 'V_load_1E': 1.3, 'V_load_1F': -0.2, 'V_load_1G': 0.5, 'V_load_1H': 0.0, 'V_load_2A': -1.5, 'V_load_2B': 0.0, 'V_load_2C': 1.5, 'V_load_2D': 0.0, 'V_load_2E': 1.3, 'V_load_2F': -0.2, 'V_load_2G': 0.7, 'V_load_2H': -1.0, 't_hold_0': 12, 't_hold_1': 18, 't_hold_2': 12, 't_res': 6, 'n_segment': 2, 'sample_rate': 1}\n",
      "set()\n"
     ]
    }
   ],
   "source": [
    "channel_tuple = 'ABCDEFGH'\n",
    "# Assume:   S1, S2, S3, S4, Plunger, S4, SET, Barrier\n",
    "v_load_0 = [-1.5, 0., 1.5, 0., 0.7, -.2, .3,  0.]\n",
    "v_load_1 = [-1.5, 0., 1.5, 0., 1.3, -.2, .5,  0.]\n",
    "v_load_2 = [-1.5, 0., 1.5, 0., 1.3, -.2, .7, -1.]\n",
    "\n",
    "default_params = {\n",
    "    **{'V_load_0'+ch: vol for ch, vol in zip(channel_tuple, v_load_0)},\n",
    "    **{'V_load_1'+ch: vol for ch, vol in zip(channel_tuple, v_load_1)},\n",
    "    **{'V_load_2'+ch: vol for ch, vol in zip(channel_tuple, v_load_2)},\n",
    "    't_hold_0': 12,\n",
    "    't_hold_1': 18,\n",
    "    't_hold_2': 12,\n",
    "    't_res': 6,\n",
    "    'n_segment': 2,\n",
    "    'sample_rate': 1,\n",
    "}\n",
    "\n",
    "print(default_params)\n",
    "print(load.parameter_names - default_params.keys())\n",
    "assert not load.parameter_names - default_params.keys()\n"
   ]
  },
  {
   "cell_type": "code",
   "execution_count": 63,
   "metadata": {},
   "outputs": [
    {
     "data": {
      "image/png": "[encoded data removed]",
      "text/plain": [
       "<Figure size 640x480 with 1 Axes>"
      ]
     },
     "metadata": {},
     "output_type": "display_data"
    }
   ],
   "source": [
    "from qupulse.pulses.plotting import plot\n",
    "\n",
    "_ = plot(load, parameters=default_params, plot_measurements=('Load'))"
   ]
  },
  {
   "cell_type": "markdown",
   "metadata": {},
   "source": [
    "Yeah! It is for sure an unnecessarily complex pulse for loading an electron.\n",
    "\n",
    "The reason of complexity is due to the operation 'Downsample' that I'm currently using. It doesn't downsample data points according to any user inputs (basically no input argument is expected) but rather defined by the measurement winodw in the pulse template.\n",
    "\n",
    "If we have a look at the magin in qupulse to understand how the measurement mask is passed to AtsAverage fristly and then Alazar card:"
   ]
  },
  {
   "cell_type": "code",
   "execution_count": 77,
   "metadata": {},
   "outputs": [
    {
     "name": "stdout",
     "output_type": "stream",
     "text": [
      "Starting time of each window: [ 0.  6. 12. 18. 24. 30. 36.]\n",
      "Time duration of each window: [6. 6. 6. 6. 6. 6. 6.]\n"
     ]
    }
   ],
   "source": [
    "# qupulse level:\n",
    "prog = load.create_program(parameters=default_params)\n",
    "# print(prog)\n",
    "\n",
    "(begins, lengths), = prog.get_measurement_windows().values()\n",
    "\n",
    "print(f'Starting time of each window: {begins}')\n",
    "print(f'Time duration of each window: {lengths}')"
   ]
  },
  {
   "cell_type": "markdown",
   "metadata": {},
   "source": [
    "Then the information of measurement windows are handled by special measure in matlab. (unexecutable codes here)   \n",
    "```MATLAB\n",
    "% some other scripts...\n",
    "\n",
    "if isa(operations{k}, 'py.atsaverage._atsaverage_release.ComputeDownsampleDefinition')\n",
    "    output(k) = util.py.py2mat(size(masks{maskIndex}.length));\n",
    "elseif isa(operations{k}, 'py.atsaverage._atsaverage_release.ComputeRepAverageDefinition')\n",
    "    n = util.py.py2mat(masks{maskIndex}.length.to_ndarray);\n",
    "    if any(n ~= n(1))\n",
    "        error('daq_operations assumes that all masks should have the same length if using ComputeRepAverageDefinition.');\n",
    "    end\t\t\t\t\n",
    "    output(k) = n(1);\n",
    "end\n",
    "```"
   ]
  },
  {
   "cell_type": "markdown",
   "metadata": {},
   "source": [
    "At AtsAverage level:\n",
    "````C++\n",
    "void ComputeDownsample::processData(const std::vector<Mask>& masks)\n",
    "{\n",
    "\tresults = masks.at(mMask)->getDownsampledData();\n",
    "}\n",
    "ats::const_vector_ptr<ResultType> ComputeDownsample::result() const\n",
    "{\n",
    "\tif (results)\n",
    "\t\treturn results;\n",
    "\n",
    "\tthrow AtsAverageRuntimeError(\"Downsample result not set\");\n",
    "}\n",
    "````"
   ]
  },
  {
   "cell_type": "markdown",
   "metadata": {},
   "source": [
    "MATLAB interface\n",
    "\n",
    "````MATLAB\n",
    "case 'DS'\n",
    "    switch mask.type\n",
    "        case 'Periodic Mask'\n",
    "            if isfield(mask, 'take') && ~isempty(mask.take)\n",
    "                smdata.inst(ico(1)).datadim(op_i + NUM_HW_CHANNELS) = mask.take;\n",
    "            else\n",
    "                smdata.inst(ico(1)).datadim(op_i + NUM_HW_CHANNELS) = smdata.inst(ico(1)).data.config.total_record_size / mask.period; % 4 is for single point channels\n",
    "            end\n",
    "        case 'Auto Mask'\n",
    "            smdata.inst(ico(1)).datadim(op_i + NUM_HW_CHANNELS) = length(mask.begin); % 4 is for single point channels\n",
    "        otherwise\n",
    "            error('Unknown mask: %s',mask.type);\n",
    "    end\n",
    "case 'REP AV'\n",
    "    switch mask.type\n",
    "        case 'Periodic Mask'\n",
    "            smdata.inst(ico(1)).datadim(op_i + NUM_HW_CHANNELS) = mask.end-mask.begin;\n",
    "        case 'Auto Mask'\n",
    "            smdata.inst(ico(1)).datadim(op_i + NUM_HW_CHANNELS) = mask.length(1);\n",
    "        otherwise\n",
    "            error('Unknown mask: %s',mask.type);\n",
    "    end\n",
    "````"
   ]
  },
  {
   "cell_type": "markdown",
   "metadata": {},
   "source": [
    "### Task 2: Tune both sides:\n"
   ]
  }
 ],
 "metadata": {
  "kernelspec": {
   "display_name": "Python 3.7.9 ('my_expDev': venv)",
   "language": "python",
   "name": "python3"
  },
  "language_info": {
   "codemirror_mode": {
    "name": "ipython",
    "version": 3
   },
   "file_extension": ".py",
   "mimetype": "text/x-python",
   "name": "python",
   "nbconvert_exporter": "python",
   "pygments_lexer": "ipython3",
   "version": "3.7.9"
  },
  "orig_nbformat": 4,
  "vscode": {
   "interpreter": {
    "hash": "0187fe0cb56dae19ef91679276d2cfcb20275eec37c3a24cf7a15a9f8efe135c"
   }
  }
 },
 "nbformat": 4,
 "nbformat_minor": 2
}
