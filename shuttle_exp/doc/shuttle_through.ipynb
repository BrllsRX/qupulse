{
 "cells": [
  {
   "cell_type": "markdown",
   "metadata": {},
   "source": [
    "# Shuttle through 10 µm QuBus\n",
    "\n",
    "Now that the expeimental evidance of long-range shuttling approaches our ultimate goal, it is time to polish previous work.\n",
    "\n",
    "## Task 1: Simplify the piece-weised pulse\n",
    "> ### Issue:\n",
    "> the measurement window of each piece-weised level yields large amount of dataset due to the high sample rate of AWG (i.e. 192/12.5 MHz = 15.36 µs). It is overkilled for loading or reading a single electron tunneling as it is rather slow i.e. in ms range, which as a result generates thousands data points for a tunnel event.\n",
    "\n",
    "> ### Solutions: \n",
    "> From my experience, a time resolution of hundreds µs is sufficient to resolve a single blip due to tunneling. \n",
    "> 1. Making simple loading/reading pulse by `TablePT` or `ConstantPT` and let alazar card downsample data as intended.\n",
    ">> #### Pridictable problems:\n",
    ">> 1. pulse issue: ConstantPT has inconsistent usage of `Set` and `frozenset` --> Issue: 712. -- DONE\n",
    ">> 2. atsaverage issue: how should I downsample data with given resolution? How to define mask properly?\n",
    ">> 3. MATLAB issue: the matlab interface will be buggy for sure. Maybe `conf_seq` has already implemented similar functionalities?\n",
    "> 2. Making more ineligent pulse as a physist? Just wrapping piece-weised pulses by one more `RepetitionPT` where `measurement_window` can be defined by a given parameter?\n",
    ">> Other than an un-readable pulse that may potentially make analysis difficult, I don't see any problems by now...\n",
    "\n",
    "> Others?\n",
    "\n",
    "Anyway, try to avoid using `PointPT` first.\n"
   ]
  },
  {
   "cell_type": "code",
   "execution_count": 2,
   "metadata": {},
   "outputs": [],
   "source": [
    "import sympy\n",
    "from qupulse.pulses import ConstantPT, RepetitionPT\n",
    "\n",
    "n_segment, sample_rate = sympy.sympify('n_segment, sample_rate')\n",
    "t_segment = n_segment / sample_rate\n",
    "# for HDAWG, n_segment = 192... It is a defined constant MIN_WAVEFORM_LEN = 192 in qupulse.hardware.awg.zihdawg.py\n",
    "\n",
    "segment = ConstantPT(t_segment, {k : 'v_hold_'+ k for k in 'ABCDEFGH'})\n",
    "body = RepetitionPT(segment, 't_res // t_segment', measurements=[('M', 0, 't_res')]) # defines resolutioin\n",
    "section = RepetitionPT(body, 't_hold // t_res') # defines hold on time at each voltage level\n"
   ]
  },
  {
   "cell_type": "markdown",
   "metadata": {},
   "source": [
    "Now make 3-level square pulse for loading or reading. Maybe extend it to have a user defined section number."
   ]
  },
  {
   "cell_type": "code",
   "execution_count": 3,
   "metadata": {},
   "outputs": [
    {
     "name": "stdout",
     "output_type": "stream",
     "text": [
      "n_segment/sample_rate\n",
      "{'D', 'E', 'B', 'A', 'F', 'C', 'G', 'H'}\n",
      "frozenset({'n_segment', 'sample_rate', 'V_hold_C', 'V_hold_B', 'V_hold_A', 'V_hold_F', 'V_hold_H', 'V_hold_D', 'V_hold_E', 'V_hold_G'})\n",
      "[]\n"
     ]
    }
   ],
   "source": [
    "from qupulse.pulses import MappingPT\n",
    "\n",
    "# but why do I define measurement window by qupulse?\n",
    "# I know MappingPT can do that, but why necessary?"
   ]
  },
  {
   "cell_type": "code",
   "execution_count": 3,
   "metadata": {},
   "outputs": [
    {
     "name": "stdout",
     "output_type": "stream",
     "text": [
      "RepetitionPulseTemplate: <floor(t_res/t_segment)> times <ConstantPulseTemplate()>\n",
      "{'D', 'E', 'H', 'F', 'G', 'A', 'B', 'C'}\n",
      "{'sample_rate', 'V_hold_B', 't_segment', 'V_hold_C', 'V_hold_H', 'V_hold_E', 'V_hold_F', 'n_segment', 'V_hold_A', 't_res', 'V_hold_G', 'V_hold_D'}\n",
      "[('M', ExpressionScalar(0), ExpressionScalar('t_res'))]\n"
     ]
    }
   ],
   "source": [
    "print(body)\n",
    "print(body.defined_channels)\n",
    "print(body.parameter_names)\n",
    "print(body._measurement_windows)"
   ]
  },
  {
   "cell_type": "markdown",
   "metadata": {},
   "source": [
    "### Task 2: Tune both sides:\n"
   ]
  }
 ],
 "metadata": {
  "kernelspec": {
   "display_name": "Python 3.7.9 ('my_expDev': venv)",
   "language": "python",
   "name": "python3"
  },
  "language_info": {
   "codemirror_mode": {
    "name": "ipython",
    "version": 3
   },
   "file_extension": ".py",
   "mimetype": "text/x-python",
   "name": "python",
   "nbconvert_exporter": "python",
   "pygments_lexer": "ipython3",
   "version": "3.7.9"
  },
  "orig_nbformat": 4,
  "vscode": {
   "interpreter": {
    "hash": "0187fe0cb56dae19ef91679276d2cfcb20275eec37c3a24cf7a15a9f8efe135c"
   }
  }
 },
 "nbformat": 4,
 "nbformat_minor": 2
}
